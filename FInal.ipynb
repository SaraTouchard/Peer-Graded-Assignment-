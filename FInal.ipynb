{
  "metadata": {
    "language_info": {
      "codemirror_mode": {
        "name": "python",
        "version": 3
      },
      "file_extension": ".py",
      "mimetype": "text/x-python",
      "name": "python",
      "nbconvert_exporter": "python",
      "pygments_lexer": "ipython3",
      "version": "3.8"
    },
    "kernelspec": {
      "name": "python",
      "display_name": "Pyolite",
      "language": "python"
    }
  },
  "nbformat_minor": 4,
  "nbformat": 4,
  "cells": [
    {
      "cell_type": "markdown",
      "source": "# My Jupyter Notebook on IBM Watson Studio",
      "metadata": {}
    },
    {
      "cell_type": "markdown",
      "source": "## **Sara Touchard**\n**Finance Analist**",
      "metadata": {}
    },
    {
      "cell_type": "markdown",
      "source": "_I am interested in data science because it helps to make informed decisions, it allows a better understanding of complex phenomena, it enables predictions and forecasting, it is intellectually stimulating, and it offers great career opportunities_",
      "metadata": {}
    },
    {
      "cell_type": "markdown",
      "source": "### In Cell 5 I will place a simple adtion and concecuently you will see the result in the cell bellow",
      "metadata": {}
    },
    {
      "cell_type": "code",
      "source": "1+2",
      "metadata": {
        "trusted": true
      },
      "execution_count": 7,
      "outputs": [
        {
          "execution_count": 7,
          "output_type": "execute_result",
          "data": {
            "text/plain": "3"
          },
          "metadata": {}
        }
      ]
    },
    {
      "cell_type": "markdown",
      "source": "---",
      "metadata": {}
    },
    {
      "cell_type": "markdown",
      "source": "- Monday\n- Tuesday\n- Wednesday\n- Thursday\n- Friday",
      "metadata": {}
    },
    {
      "cell_type": "markdown",
      "source": "1. Milk\n2. Eggs\n3. Butter\n4. Flour",
      "metadata": {}
    },
    {
      "cell_type": "markdown",
      "source": "| Day | Month |  Year | Name |\n| ------ | ------ | ------ | ------|\n| 23 | 01| 1974 | Martha |\n| 21 | 10| 1953 | Dominic |\n| 08 | 08| 1983 | Claire |\n| 17 | 06| 1965 | Samantha |",
      "metadata": {}
    },
    {
      "cell_type": "markdown",
      "source": "# <a href=\"http://Google.com\">Google</a>",
      "metadata": {}
    },
    {
      "cell_type": "markdown",
      "source": "`Code highlighting`",
      "metadata": {}
    },
    {
      "cell_type": "markdown",
      "source": "``` Sintax highlighting ```",
      "metadata": {}
    },
    {
      "cell_type": "markdown",
      "source": "> \"Each one can make a difference. Be kind.\"",
      "metadata": {}
    },
    {
      "cell_type": "code",
      "source": "",
      "metadata": {},
      "execution_count": null,
      "outputs": []
    }
  ]
}